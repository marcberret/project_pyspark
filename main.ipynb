{
 "cells": [
  {
   "cell_type": "markdown",
   "metadata": {
    "application/vnd.databricks.v1+cell": {
     "cellMetadata": {
      "byteLimit": 2048000,
      "rowLimit": 10000
     },
     "inputWidgets": {},
     "nuid": "4141eb60-b993-465a-bddb-6d6dbf114f79",
     "showTitle": false,
     "tableResultSettingsMap": {},
     "title": ""
    }
   },
   "source": [
    "# Support PySpark \n",
    "\n",
    "Ce notebook a pour objectif de faciliter la compréhension de l'architecture de Spark et l'utilisation des fonctionnalités de l'API PySpark dans un environnement Databricks. \n",
    "\n",
    "Il se divise en trois sections principales :\n",
    "- Concepts de base de Spark : introduction des concepts fondamentaux en expliquant SparkContext, SparkSession ainsi que les Resilient Distributed Datasets (RDD)\n",
    "- Manipulation des données avec Spark DataFrame : lecture et collecte de fichiers (.txt, .csv, .json) en DataFrame Spark et présentation des principales transformations et actions réalisables.\n",
    "- Utilisation de Spark SQL \n",
    "\n",
    "Je tiens à remercier la chaîne coder2j pour ses explications et ses conseils pratiques qui enrichissent ce notebook."
   ]
  },
  {
   "cell_type": "markdown",
   "metadata": {
    "application/vnd.databricks.v1+cell": {
     "cellMetadata": {
      "byteLimit": 2048000,
      "rowLimit": 10000
     },
     "inputWidgets": {},
     "nuid": "ca050bbc-dc07-46ec-9187-d74f483e5bac",
     "showTitle": false,
     "tableResultSettingsMap": {},
     "title": ""
    }
   },
   "source": [
    "# SparkContext vs SparkSession"
   ]
  },
  {
   "cell_type": "markdown",
   "metadata": {
    "application/vnd.databricks.v1+cell": {
     "cellMetadata": {
      "byteLimit": 2048000,
      "rowLimit": 10000
     },
     "inputWidgets": {},
     "nuid": "ceadc6bf-2260-4abd-b11a-6ac67554f418",
     "showTitle": false,
     "tableResultSettingsMap": {},
     "title": ""
    }
   },
   "source": [
    "SparkContext : ancien point d’entrée pour interagir avec Apache Spark. Il permet de se connecter au cluster Spark et de traiter des données. Ce point d’entrée était utilisé avant Spark 2.0.\n",
    "\n",
    "SparkSession : nouveau point d’entrée principal à partir de Spark 2.0. Il regroupe les fonctionnalités de SparkContext tout en ajoutant celles de SQL, DataFrame et streaming, rendant l’utilisation de Spark plus simple et plus complète."
   ]
  },
  {
   "cell_type": "markdown",
   "metadata": {
    "application/vnd.databricks.v1+cell": {
     "cellMetadata": {
      "byteLimit": 2048000,
      "rowLimit": 10000
     },
     "inputWidgets": {},
     "nuid": "485ae7b9-db13-4310-a1c2-b48baf7194e1",
     "showTitle": false,
     "tableResultSettingsMap": {},
     "title": ""
    }
   },
   "source": [
    "# Create SparkSession in Apache Spark"
   ]
  },
  {
   "cell_type": "code",
   "execution_count": 0,
   "metadata": {
    "application/vnd.databricks.v1+cell": {
     "cellMetadata": {
      "byteLimit": 2048000,
      "rowLimit": 10000
     },
     "inputWidgets": {},
     "nuid": "828ae278-6cf5-41db-a86d-84c7eb2c0184",
     "showTitle": false,
     "tableResultSettingsMap": {},
     "title": ""
    }
   },
   "outputs": [],
   "source": [
    "from pyspark.sql import SparkSession\n",
    "\n",
    "# Create a SparkSession\n",
    "spark = SparkSession.builder \\\n",
    "    .appName(\"PySpark-Session\") \\\n",
    "    .getOrCreate()"
   ]
  },
  {
   "cell_type": "markdown",
   "metadata": {
    "application/vnd.databricks.v1+cell": {
     "cellMetadata": {
      "byteLimit": 2048000,
      "rowLimit": 10000
     },
     "inputWidgets": {},
     "nuid": "1485f604-825e-4da0-9313-9e44c7968d28",
     "showTitle": false,
     "tableResultSettingsMap": {},
     "title": ""
    }
   },
   "source": [
    "# RDDs (Resilient Distributed Datasets)"
   ]
  },
  {
   "cell_type": "markdown",
   "metadata": {
    "application/vnd.databricks.v1+cell": {
     "cellMetadata": {
      "byteLimit": 2048000,
      "rowLimit": 10000
     },
     "inputWidgets": {},
     "nuid": "2d1c5529-cc7a-4400-86ef-5eda5ac2bc2e",
     "showTitle": false,
     "tableResultSettingsMap": {},
     "title": ""
    }
   },
   "source": [
    "Caractéristiques :\n",
    "- Immutabilité : les transformations créent de nouveaux RDD \n",
    "- Distribution : données partitionnées et traitées en parallèle\n",
    "- Résilience : reconstruction automatique des RDD en cas de panne\n",
    "- Évaluation paresseuse : les transformations des RDD sont exécutées uniquement lorsqu’une action est appelée\n",
    "\n",
    "Transformations : créent de nouveaux RDD à partir d’un RDD existant et restent en attente jusqu'à l’appel d’une action.\n",
    "\n",
    "Ex : map, filter, flatMap, reduceByKey, sortBy, join\n",
    "\n",
    "\n",
    "Actions : lancent le calcul des transformations et produisent un résultat final.\n",
    "\n",
    "Ex : collect, count, first, take, save, foreach\n"
   ]
  },
  {
   "cell_type": "code",
   "execution_count": 0,
   "metadata": {
    "application/vnd.databricks.v1+cell": {
     "cellMetadata": {
      "byteLimit": 2048000,
      "rowLimit": 10000
     },
     "inputWidgets": {},
     "nuid": "e5b1ed0a-bd25-45c5-8f16-e584f7b457c0",
     "showTitle": false,
     "tableResultSettingsMap": {},
     "title": ""
    }
   },
   "outputs": [],
   "source": [
    "# Create a SparkSession\n",
    "spark = SparkSession.builder.appName(\"RDD\").getOrCreate()"
   ]
  },
  {
   "cell_type": "markdown",
   "metadata": {
    "application/vnd.databricks.v1+cell": {
     "cellMetadata": {
      "byteLimit": 2048000,
      "rowLimit": 10000
     },
     "inputWidgets": {},
     "nuid": "c731d7c6-e197-4691-b656-fb107d362118",
     "showTitle": false,
     "tableResultSettingsMap": {},
     "title": ""
    }
   },
   "source": [
    "## How to create RDDs"
   ]
  },
  {
   "cell_type": "code",
   "execution_count": 0,
   "metadata": {
    "application/vnd.databricks.v1+cell": {
     "cellMetadata": {
      "byteLimit": 2048000,
      "rowLimit": 10000
     },
     "inputWidgets": {},
     "nuid": "19cdc605-8a25-4a20-97b7-6d9b1e0a206e",
     "showTitle": false,
     "tableResultSettingsMap": {},
     "title": ""
    }
   },
   "outputs": [
    {
     "output_type": "stream",
     "name": "stdout",
     "output_type": "stream",
     "text": [
      "All elements of the rdd:  [('Alice', 25), ('Bob', 30), ('Charlie', 35), ('Alice', 40)]\n"
     ]
    }
   ],
   "source": [
    "# Create an RDD from a list of tuples\n",
    "data = [(\"Alice\", 25), (\"Bob\", 30), (\"Charlie\", 35), (\"Alice\", 40)]\n",
    "rdd = spark.sparkContext.parallelize(data)\n",
    "\n",
    "# Collect action: Retrieve all elements of the RDD\n",
    "print(\"All elements of the rdd: \", rdd.collect())"
   ]
  },
  {
   "cell_type": "markdown",
   "metadata": {
    "application/vnd.databricks.v1+cell": {
     "cellMetadata": {
      "byteLimit": 2048000,
      "rowLimit": 10000
     },
     "inputWidgets": {},
     "nuid": "0fba53bb-d51a-448a-8bdc-db5ac45d173f",
     "showTitle": false,
     "tableResultSettingsMap": {},
     "title": ""
    }
   },
   "source": [
    "## RDDs Operation: actions"
   ]
  },
  {
   "cell_type": "code",
   "execution_count": 0,
   "metadata": {
    "application/vnd.databricks.v1+cell": {
     "cellMetadata": {
      "byteLimit": 2048000,
      "rowLimit": 10000
     },
     "inputWidgets": {},
     "nuid": "5d094d75-14f0-440d-b3bb-b52b3d9e930f",
     "showTitle": false,
     "tableResultSettingsMap": {},
     "title": ""
    }
   },
   "outputs": [
    {
     "output_type": "stream",
     "name": "stdout",
     "output_type": "stream",
     "text": [
      "The total number of elements in rdd:  4\n"
     ]
    }
   ],
   "source": [
    "# Count action: Count the number of elements in the RDD\n",
    "count = rdd.count()\n",
    "print(\"The total number of elements in rdd: \", count)"
   ]
  },
  {
   "cell_type": "code",
   "execution_count": 0,
   "metadata": {
    "application/vnd.databricks.v1+cell": {
     "cellMetadata": {
      "byteLimit": 2048000,
      "rowLimit": 10000
     },
     "inputWidgets": {},
     "nuid": "57712b1e-c387-4794-9032-fc3efcdbd788",
     "showTitle": false,
     "tableResultSettingsMap": {},
     "title": ""
    }
   },
   "outputs": [
    {
     "output_type": "stream",
     "name": "stdout",
     "output_type": "stream",
     "text": [
      "The first element of the rdd:  ('Alice', 25)\n"
     ]
    }
   ],
   "source": [
    "# First action: retrieve the first element of the RDD\n",
    "first_element = rdd.first()\n",
    "print(\"The first element of the rdd: \", first_element)"
   ]
  },
  {
   "cell_type": "code",
   "execution_count": 0,
   "metadata": {
    "application/vnd.databricks.v1+cell": {
     "cellMetadata": {
      "byteLimit": 2048000,
      "rowLimit": 10000
     },
     "inputWidgets": {},
     "nuid": "69a1f121-3e86-486c-b5b7-717a3377192a",
     "showTitle": false,
     "tableResultSettingsMap": {},
     "title": ""
    }
   },
   "outputs": [
    {
     "output_type": "stream",
     "name": "stdout",
     "output_type": "stream",
     "text": [
      "The first two elements of the rdd:  [('Alice', 25), ('Bob', 30)]\n"
     ]
    }
   ],
   "source": [
    "# Take action: retrieve the n elements of the RDD\n",
    "taken_elements = rdd.take(2)\n",
    "print(\"The first two elements of the rdd: \", taken_elements)"
   ]
  },
  {
   "cell_type": "markdown",
   "metadata": {
    "application/vnd.databricks.v1+cell": {
     "cellMetadata": {
      "byteLimit": 2048000,
      "rowLimit": 10000
     },
     "inputWidgets": {},
     "nuid": "c4babd27-5934-4f3b-bfb9-1cc55a29540f",
     "showTitle": false,
     "tableResultSettingsMap": {},
     "title": ""
    }
   },
   "source": [
    "## RDDs Operation: transformation"
   ]
  },
  {
   "cell_type": "code",
   "execution_count": 0,
   "metadata": {
    "application/vnd.databricks.v1+cell": {
     "cellMetadata": {
      "byteLimit": 2048000,
      "rowLimit": 10000
     },
     "inputWidgets": {},
     "nuid": "ada80f31-6b39-4044-83a4-002741db24cc",
     "showTitle": false,
     "tableResultSettingsMap": {},
     "title": ""
    }
   },
   "outputs": [
    {
     "output_type": "stream",
     "name": "stdout",
     "output_type": "stream",
     "text": [
      "rdd with uppercease name:  [('ALICE', 25), ('BOB', 30), ('CHARLIE', 35), ('ALICE', 40)]\n"
     ]
    }
   ],
   "source": [
    "# Map transformation: convert name to uppercase\n",
    "mapped_rdd = rdd.map(lambda x: (x[0].upper(), x[1]))\n",
    "\n",
    "result = mapped_rdd.collect()\n",
    "print(\"rdd with uppercease name: \", result)"
   ]
  },
  {
   "cell_type": "code",
   "execution_count": 0,
   "metadata": {
    "application/vnd.databricks.v1+cell": {
     "cellMetadata": {
      "byteLimit": 2048000,
      "rowLimit": 10000
     },
     "inputWidgets": {},
     "nuid": "a98539f9-c2dd-42c6-b7f3-f54c35736f91",
     "showTitle": false,
     "tableResultSettingsMap": {},
     "title": ""
    }
   },
   "outputs": [
    {
     "output_type": "stream",
     "name": "stdout",
     "output_type": "stream",
     "text": [
      "Out[82]: [('Charlie', 35), ('Alice', 40)]"
     ]
    }
   ],
   "source": [
    "# Filter transformation: filter records where age is greater than 30\n",
    "filtered_rdd = rdd.filter(lambda x: x[1] > 30)\n",
    "filtered_rdd.collect()"
   ]
  },
  {
   "cell_type": "code",
   "execution_count": 0,
   "metadata": {
    "application/vnd.databricks.v1+cell": {
     "cellMetadata": {
      "byteLimit": 2048000,
      "rowLimit": 10000
     },
     "inputWidgets": {},
     "nuid": "f570fa9d-72f1-48dc-95d7-00dcd025fc90",
     "showTitle": false,
     "tableResultSettingsMap": {},
     "title": ""
    }
   },
   "outputs": [
    {
     "output_type": "stream",
     "name": "stdout",
     "output_type": "stream",
     "text": [
      "Out[83]: [('Charlie', 35), ('Bob', 30), ('Alice', 65)]"
     ]
    }
   ],
   "source": [
    "# ReduceByKey transformation: calculate the total age for each name\n",
    "reduced_rdd = rdd.reduceByKey(lambda x, y: x + y)\n",
    "reduced_rdd.collect()"
   ]
  },
  {
   "cell_type": "code",
   "execution_count": 0,
   "metadata": {
    "application/vnd.databricks.v1+cell": {
     "cellMetadata": {
      "byteLimit": 2048000,
      "rowLimit": 10000
     },
     "inputWidgets": {},
     "nuid": "57edaf8d-ea76-4fbf-96d6-4380c1e8e076",
     "showTitle": false,
     "tableResultSettingsMap": {},
     "title": ""
    }
   },
   "outputs": [
    {
     "output_type": "stream",
     "name": "stdout",
     "output_type": "stream",
     "text": [
      "Out[84]: [('Alice', 40), ('Charlie', 35), ('Bob', 30), ('Alice', 25)]"
     ]
    }
   ],
   "source": [
    "# SortBy transformation: sort the RDD by age in descending order\n",
    "sorted_rdd = rdd.sortBy(lambda x: x[1], ascending=False)\n",
    "sorted_rdd.collect()"
   ]
  },
  {
   "cell_type": "markdown",
   "metadata": {
    "application/vnd.databricks.v1+cell": {
     "cellMetadata": {
      "byteLimit": 2048000,
      "rowLimit": 10000
     },
     "inputWidgets": {},
     "nuid": "e6b24a0b-3a93-406d-9139-273c9afac613",
     "showTitle": false,
     "tableResultSettingsMap": {},
     "title": ""
    }
   },
   "source": [
    "# DataFrame imports"
   ]
  },
  {
   "cell_type": "code",
   "execution_count": 0,
   "metadata": {
    "application/vnd.databricks.v1+cell": {
     "cellMetadata": {
      "byteLimit": 2048000,
      "rowLimit": 10000
     },
     "inputWidgets": {},
     "nuid": "6c456230-14b8-4d53-895d-6c46da346756",
     "showTitle": false,
     "tableResultSettingsMap": {},
     "title": ""
    }
   },
   "outputs": [],
   "source": [
    "# Create a SparkSession\n",
    "spark = SparkSession.builder.appName(\"DataFrame-Import\").getOrCreate()"
   ]
  },
  {
   "cell_type": "markdown",
   "metadata": {
    "application/vnd.databricks.v1+cell": {
     "cellMetadata": {
      "byteLimit": 2048000,
      "rowLimit": 10000
     },
     "inputWidgets": {},
     "nuid": "e51232dd-9af2-4400-8c1a-091efeca15fc",
     "showTitle": false,
     "tableResultSettingsMap": {},
     "title": ""
    }
   },
   "source": [
    "## Read CSV with header"
   ]
  },
  {
   "cell_type": "code",
   "execution_count": 0,
   "metadata": {
    "application/vnd.databricks.v1+cell": {
     "cellMetadata": {
      "byteLimit": 2048000,
      "rowLimit": 10000
     },
     "inputWidgets": {},
     "nuid": "92350c80-85ac-41f1-bb75-a49a3e38bc50",
     "showTitle": false,
     "tableResultSettingsMap": {},
     "title": ""
    }
   },
   "outputs": [
    {
     "output_type": "stream",
     "name": "stdout",
     "output_type": "stream",
     "text": [
      "root\n |-- id: string (nullable = true)\n |-- name: string (nullable = true)\n |-- category: string (nullable = true)\n |-- quantity: string (nullable = true)\n |-- price: string (nullable = true)\n\n+---+--------------------+---------------+--------+------+\n| id|                name|       category|quantity| price|\n+---+--------------------+---------------+--------+------+\n|  1|           iPhone 12|    Electronics|      10|899.99|\n|  2|     Nike Air Max 90|       Clothing|      25|119.99|\n|  3|KitchenAid Stand ...|Home Appliances|       5|299.99|\n|  4|    The Great Gatsby|          Books|      50| 12.99|\n|  5|L'Oreal Paris Mas...|         Beauty|     100|  9.99|\n+---+--------------------+---------------+--------+------+\nonly showing top 5 rows\n\n"
     ]
    }
   ],
   "source": [
    "# Read CSV file into DataFrame\n",
    "csv_file_path = \"/FileStore/tables/products.csv\"\n",
    "df = spark.read.csv(csv_file_path, header=True)\n",
    "\n",
    "# Display schema of DataFrame\n",
    "df.printSchema()\n",
    "\n",
    "# Display content of DataFrame\n",
    "df.show(5)"
   ]
  },
  {
   "cell_type": "markdown",
   "metadata": {
    "application/vnd.databricks.v1+cell": {
     "cellMetadata": {
      "byteLimit": 2048000,
      "rowLimit": 10000
     },
     "inputWidgets": {},
     "nuid": "fde52d46-4b4e-49c9-9323-4d6700a77d7b",
     "showTitle": false,
     "tableResultSettingsMap": {},
     "title": ""
    }
   },
   "source": [
    "## Read CSV with an explicit schema definition"
   ]
  },
  {
   "cell_type": "code",
   "execution_count": 0,
   "metadata": {
    "application/vnd.databricks.v1+cell": {
     "cellMetadata": {
      "byteLimit": 2048000,
      "rowLimit": 10000
     },
     "inputWidgets": {},
     "nuid": "d94d1def-447d-45e6-96be-9a2b24f5304a",
     "showTitle": false,
     "tableResultSettingsMap": {},
     "title": ""
    }
   },
   "outputs": [],
   "source": [
    "# Import necessary types\n",
    "from pyspark.sql.types import StructType, StructField, StringType, IntegerType, DoubleType"
   ]
  },
  {
   "cell_type": "code",
   "execution_count": 0,
   "metadata": {
    "application/vnd.databricks.v1+cell": {
     "cellMetadata": {
      "byteLimit": 2048000,
      "rowLimit": 10000
     },
     "inputWidgets": {},
     "nuid": "f3c50607-5b18-4416-bece-6441d9bb261d",
     "showTitle": false,
     "tableResultSettingsMap": {},
     "title": ""
    }
   },
   "outputs": [
    {
     "output_type": "stream",
     "name": "stdout",
     "output_type": "stream",
     "text": [
      "root\n |-- id: integer (nullable = true)\n |-- name: string (nullable = true)\n |-- category: string (nullable = true)\n |-- quantity: integer (nullable = true)\n |-- price: double (nullable = true)\n\n+---+--------------------+---------------+--------+------+\n| id|                name|       category|quantity| price|\n+---+--------------------+---------------+--------+------+\n|  1|           iPhone 12|    Electronics|      10|899.99|\n|  2|     Nike Air Max 90|       Clothing|      25|119.99|\n|  3|KitchenAid Stand ...|Home Appliances|       5|299.99|\n|  4|    The Great Gatsby|          Books|      50| 12.99|\n|  5|L'Oreal Paris Mas...|         Beauty|     100|  9.99|\n+---+--------------------+---------------+--------+------+\nonly showing top 5 rows\n\n"
     ]
    }
   ],
   "source": [
    "# Import necessary types\n",
    "from pyspark.sql.types import StructType, StructField, StringType, IntegerType, DoubleType\n",
    "\n",
    "# Define the schema\n",
    "schema = StructType([\n",
    "    StructField(name=\"id\", dataType=IntegerType(), nullable=True),\n",
    "    StructField(name=\"name\", dataType=StringType(), nullable=True),\n",
    "    StructField(name=\"category\", dataType=StringType(), nullable=True),\n",
    "    StructField(name=\"quantity\", dataType=IntegerType(), nullable=True),\n",
    "    StructField(name=\"price\", dataType=DoubleType(), nullable=True)\n",
    "])\n",
    "\n",
    "# Read CSV file into DataFrame with schema definition\n",
    "csv_file_path = \"/FileStore/tables/products.csv\"\n",
    "df = spark.read.csv(csv_file_path, header=True, schema=schema)\n",
    "\n",
    "# Display schema of DataFrame\n",
    "df.printSchema()\n",
    "\n",
    "# Display content of DataFrame\n",
    "df.show(5)"
   ]
  },
  {
   "cell_type": "markdown",
   "metadata": {
    "application/vnd.databricks.v1+cell": {
     "cellMetadata": {
      "byteLimit": 2048000,
      "rowLimit": 10000
     },
     "inputWidgets": {},
     "nuid": "36414fe5-8c93-40a5-b72f-224041fb9ae9",
     "showTitle": false,
     "tableResultSettingsMap": {},
     "title": ""
    }
   },
   "source": [
    "## Read CSV with inferSchema"
   ]
  },
  {
   "cell_type": "code",
   "execution_count": 0,
   "metadata": {
    "application/vnd.databricks.v1+cell": {
     "cellMetadata": {
      "byteLimit": 2048000,
      "rowLimit": 10000
     },
     "inputWidgets": {},
     "nuid": "e9987802-9975-43b7-b79f-cce394d68fb8",
     "showTitle": false,
     "tableResultSettingsMap": {},
     "title": ""
    }
   },
   "outputs": [
    {
     "output_type": "stream",
     "name": "stdout",
     "output_type": "stream",
     "text": [
      "root\n |-- id: integer (nullable = true)\n |-- name: string (nullable = true)\n |-- category: string (nullable = true)\n |-- quantity: integer (nullable = true)\n |-- price: double (nullable = true)\n\n+---+--------------------+---------------+--------+------+\n| id|                name|       category|quantity| price|\n+---+--------------------+---------------+--------+------+\n|  1|           iPhone 12|    Electronics|      10|899.99|\n|  2|     Nike Air Max 90|       Clothing|      25|119.99|\n|  3|KitchenAid Stand ...|Home Appliances|       5|299.99|\n|  4|    The Great Gatsby|          Books|      50| 12.99|\n|  5|L'Oreal Paris Mas...|         Beauty|     100|  9.99|\n+---+--------------------+---------------+--------+------+\nonly showing top 5 rows\n\n"
     ]
    }
   ],
   "source": [
    "# Read CSV file into DataFrame with inferSchema\n",
    "csv_file_path = \"/FileStore/tables/products.csv\"\n",
    "df = spark.read.csv(csv_file_path, header=True, inferSchema=True)\n",
    "\n",
    "# Display schema of DataFrame\n",
    "df.printSchema()\n",
    "\n",
    "# Display content of DataFrame\n",
    "df.show(5)"
   ]
  },
  {
   "cell_type": "markdown",
   "metadata": {
    "application/vnd.databricks.v1+cell": {
     "cellMetadata": {
      "byteLimit": 2048000,
      "rowLimit": 10000
     },
     "inputWidgets": {},
     "nuid": "2cb2fbdf-86a6-4a39-a98a-f55bf129ee46",
     "showTitle": false,
     "tableResultSettingsMap": {},
     "title": ""
    }
   },
   "source": [
    "## Read JSON file into DataFrame"
   ]
  },
  {
   "cell_type": "markdown",
   "metadata": {
    "application/vnd.databricks.v1+cell": {
     "cellMetadata": {
      "byteLimit": 2048000,
      "rowLimit": 10000
     },
     "inputWidgets": {},
     "nuid": "68ae733c-e1e7-410e-8a8c-fa2b62f162d9",
     "showTitle": false,
     "tableResultSettingsMap": {},
     "title": ""
    }
   },
   "source": [
    "### Single Line JSON"
   ]
  },
  {
   "cell_type": "code",
   "execution_count": 0,
   "metadata": {
    "application/vnd.databricks.v1+cell": {
     "cellMetadata": {
      "byteLimit": 2048000,
      "rowLimit": 10000
     },
     "inputWidgets": {},
     "nuid": "4573039f-4c7d-4041-a1e5-4ec56e9b8346",
     "showTitle": false,
     "tableResultSettingsMap": {},
     "title": ""
    }
   },
   "outputs": [
    {
     "output_type": "display_data",
     "data": {
      "text/html": [
       "<style scoped>\n",
       "  .ansiout {\n",
       "    display: block;\n",
       "    unicode-bidi: embed;\n",
       "    white-space: pre-wrap;\n",
       "    word-wrap: break-word;\n",
       "    word-break: break-all;\n",
       "    font-family: \"Menlo\", \"Monaco\", \"Consolas\", \"Ubuntu Mono\", \"Source Code Pro\", monospace;\n",
       "    font-size: 13px;\n",
       "    color: #555;\n",
       "    margin-left: 4px;\n",
       "    line-height: 19px;\n",
       "  }\n",
       "</style>\n",
       "<div class=\"ansiout\">{&quot;id&quot;:1,&quot;name&quot;:&quot;iPhone 12&quot;,&quot;category&quot;:&quot;Electronics&quot;,&quot;quantity&quot;:10,&quot;price&quot;:899.99}\n",
       "{&quot;id&quot;:2,&quot;name&quot;:&quot;Nike Air Max 90&quot;,&quot;category&quot;:&quot;Clothing&quot;,&quot;quantity&quot;:25,&quot;price&quot;:119.99}\n",
       "{&quot;id&quot;:3,&quot;name&quot;:&quot;KitchenAid Stand Mixer&quot;,&quot;category&quot;:&quot;Home Appliances&quot;,&quot;quantity&quot;:5,&quot;price&quot;:299.99}\n",
       "{&quot;id&quot;:4,&quot;name&quot;:&quot;The Great Gatsby&quot;,&quot;category&quot;:&quot;Books&quot;,&quot;quantity&quot;:50,&quot;price&quot;:12.99}\n",
       "{&quot;id&quot;:5,&quot;name&quot;:&quot;L'Oreal Paris Mascara&quot;,&quot;category&quot;:&quot;Beauty&quot;,&quot;quantity&quot;:100,&quot;price&quot;:9.99}\n",
       "{&quot;id&quot;:6,&quot;name&quot;:&quot;Yoga Mat&quot;,&quot;category&quot;:&quot;Sports&quot;,&quot;quantity&quot;:30,&quot;price&quot;:29.99}\n",
       "{&quot;id&quot;:7,&quot;name&quot;:&quot;Samsung 4K Smart TV&quot;,&quot;category&quot;:&quot;Electronics&quot;,&quot;quantity&quot;:8,&quot;price&quot;:799.99}\n",
       "{&quot;id&quot;:8,&quot;name&quot;:&quot;Levi's Jeans&quot;,&quot;category&quot;:&quot;Clothing&quot;,&quot;quantity&quot;:15,&quot;price&quot;:49.99}\n",
       "{&quot;id&quot;:9,&quot;name&quot;:&quot;Dyson Vacuum Cleaner&quot;,&quot;category&quot;:&quot;Home Appliances&quot;,&quot;quantity&quot;:3,&quot;price&quot;:399.99}\n",
       "{&quot;id&quot;:10,&quot;name&quot;:&quot;Harry Potter Series&quot;,&quot;category&quot;:&quot;Books&quot;,&quot;quantity&quot;:20,&quot;price&quot;:15.99}\n",
       "{&quot;id&quot;:11,&quot;name&quot;:&quot;MAC Lipstick&quot;,&quot;category&quot;:&quot;Beauty&quot;,&quot;quantity&quot;:75,&quot;price&quot;:16.99}\n",
       "{&quot;id&quot;:12,&quot;name&quot;:&quot;Adidas Running Shoes&quot;,&quot;category&quot;:&quot;Sports&quot;,&quot;quantity&quot;:22,&quot;price&quot;:59.99}\n",
       "{&quot;id&quot;:13,&quot;name&quot;:&quot;PlayStation 5&quot;,&quot;category&quot;:&quot;Electronics&quot;,&quot;quantity&quot;:12,&quot;price&quot;:499.99}\n",
       "{&quot;id&quot;:14,&quot;name&quot;:&quot;Hooded Sweatshirt&quot;,&quot;category&quot;:&quot;Clothing&quot;,&quot;quantity&quot;:10,&quot;price&quot;:34.99}\n",
       "{&quot;id&quot;:15,&quot;name&quot;:&quot;Coffee Maker&quot;,&quot;category&quot;:&quot;Home Appliances&quot;,&quot;quantity&quot;:7,&quot;price&quot;:89.99}\n",
       "{&quot;id&quot;:16,&quot;name&quot;:&quot;To Kill a Mockingbird&quot;,&quot;category&quot;:&quot;Books&quot;,&quot;quantity&quot;:15,&quot;price&quot;:9.99}\n",
       "{&quot;id&quot;:17,&quot;name&quot;:&quot;Skincare Set&quot;,&quot;category&quot;:&quot;Beauty&quot;,&quot;quantity&quot;:50,&quot;price&quot;:49.99}\n",
       "{&quot;id&quot;:18,&quot;name&quot;:&quot;Yoga Ball&quot;,&quot;category&quot;:&quot;Sports&quot;,&quot;quantity&quot;:18,&quot;price&quot;:19.99}\n",
       "{&quot;id&quot;:19,&quot;name&quot;:&quot;Sony Noise-Canceling Headphones&quot;,&quot;category&quot;:&quot;Electronics&quot;,&quot;quantity&quot;:6,&quot;price&quot;:299.99}\n",
       "{&quot;id&quot;:20,&quot;name&quot;:&quot;Puma T-shirt&quot;,&quot;category&quot;:&quot;Clothing&quot;,&quot;quantity&quot;:40,&quot;price&quot;:19.99}\n",
       "</div>"
      ]
     },
     "metadata": {
      "application/vnd.databricks.v1+output": {
       "addedWidgets": {},
       "arguments": {},
       "data": "<div class=\"ansiout\">{&quot;id&quot;:1,&quot;name&quot;:&quot;iPhone 12&quot;,&quot;category&quot;:&quot;Electronics&quot;,&quot;quantity&quot;:10,&quot;price&quot;:899.99}\n{&quot;id&quot;:2,&quot;name&quot;:&quot;Nike Air Max 90&quot;,&quot;category&quot;:&quot;Clothing&quot;,&quot;quantity&quot;:25,&quot;price&quot;:119.99}\n{&quot;id&quot;:3,&quot;name&quot;:&quot;KitchenAid Stand Mixer&quot;,&quot;category&quot;:&quot;Home Appliances&quot;,&quot;quantity&quot;:5,&quot;price&quot;:299.99}\n{&quot;id&quot;:4,&quot;name&quot;:&quot;The Great Gatsby&quot;,&quot;category&quot;:&quot;Books&quot;,&quot;quantity&quot;:50,&quot;price&quot;:12.99}\n{&quot;id&quot;:5,&quot;name&quot;:&quot;L'Oreal Paris Mascara&quot;,&quot;category&quot;:&quot;Beauty&quot;,&quot;quantity&quot;:100,&quot;price&quot;:9.99}\n{&quot;id&quot;:6,&quot;name&quot;:&quot;Yoga Mat&quot;,&quot;category&quot;:&quot;Sports&quot;,&quot;quantity&quot;:30,&quot;price&quot;:29.99}\n{&quot;id&quot;:7,&quot;name&quot;:&quot;Samsung 4K Smart TV&quot;,&quot;category&quot;:&quot;Electronics&quot;,&quot;quantity&quot;:8,&quot;price&quot;:799.99}\n{&quot;id&quot;:8,&quot;name&quot;:&quot;Levi's Jeans&quot;,&quot;category&quot;:&quot;Clothing&quot;,&quot;quantity&quot;:15,&quot;price&quot;:49.99}\n{&quot;id&quot;:9,&quot;name&quot;:&quot;Dyson Vacuum Cleaner&quot;,&quot;category&quot;:&quot;Home Appliances&quot;,&quot;quantity&quot;:3,&quot;price&quot;:399.99}\n{&quot;id&quot;:10,&quot;name&quot;:&quot;Harry Potter Series&quot;,&quot;category&quot;:&quot;Books&quot;,&quot;quantity&quot;:20,&quot;price&quot;:15.99}\n{&quot;id&quot;:11,&quot;name&quot;:&quot;MAC Lipstick&quot;,&quot;category&quot;:&quot;Beauty&quot;,&quot;quantity&quot;:75,&quot;price&quot;:16.99}\n{&quot;id&quot;:12,&quot;name&quot;:&quot;Adidas Running Shoes&quot;,&quot;category&quot;:&quot;Sports&quot;,&quot;quantity&quot;:22,&quot;price&quot;:59.99}\n{&quot;id&quot;:13,&quot;name&quot;:&quot;PlayStation 5&quot;,&quot;category&quot;:&quot;Electronics&quot;,&quot;quantity&quot;:12,&quot;price&quot;:499.99}\n{&quot;id&quot;:14,&quot;name&quot;:&quot;Hooded Sweatshirt&quot;,&quot;category&quot;:&quot;Clothing&quot;,&quot;quantity&quot;:10,&quot;price&quot;:34.99}\n{&quot;id&quot;:15,&quot;name&quot;:&quot;Coffee Maker&quot;,&quot;category&quot;:&quot;Home Appliances&quot;,&quot;quantity&quot;:7,&quot;price&quot;:89.99}\n{&quot;id&quot;:16,&quot;name&quot;:&quot;To Kill a Mockingbird&quot;,&quot;category&quot;:&quot;Books&quot;,&quot;quantity&quot;:15,&quot;price&quot;:9.99}\n{&quot;id&quot;:17,&quot;name&quot;:&quot;Skincare Set&quot;,&quot;category&quot;:&quot;Beauty&quot;,&quot;quantity&quot;:50,&quot;price&quot;:49.99}\n{&quot;id&quot;:18,&quot;name&quot;:&quot;Yoga Ball&quot;,&quot;category&quot;:&quot;Sports&quot;,&quot;quantity&quot;:18,&quot;price&quot;:19.99}\n{&quot;id&quot;:19,&quot;name&quot;:&quot;Sony Noise-Canceling Headphones&quot;,&quot;category&quot;:&quot;Electronics&quot;,&quot;quantity&quot;:6,&quot;price&quot;:299.99}\n{&quot;id&quot;:20,&quot;name&quot;:&quot;Puma T-shirt&quot;,&quot;category&quot;:&quot;Clothing&quot;,&quot;quantity&quot;:40,&quot;price&quot;:19.99}\n</div>",
       "datasetInfos": [],
       "metadata": {
        "isDbfsCommandResult": false
       },
       "removedWidgets": [],
       "type": "html"
      }
     },
     "output_type": "display_data"
    }
   ],
   "source": [
    "%fs head /FileStore/tables/products_singleline.json"
   ]
  },
  {
   "cell_type": "code",
   "execution_count": 0,
   "metadata": {
    "application/vnd.databricks.v1+cell": {
     "cellMetadata": {
      "byteLimit": 2048000,
      "rowLimit": 10000
     },
     "inputWidgets": {},
     "nuid": "a4d3a5c8-811d-48ff-b7d9-0812fc80a501",
     "showTitle": false,
     "tableResultSettingsMap": {},
     "title": ""
    }
   },
   "outputs": [
    {
     "output_type": "stream",
     "name": "stdout",
     "output_type": "stream",
     "text": [
      "root\n |-- category: string (nullable = true)\n |-- id: long (nullable = true)\n |-- name: string (nullable = true)\n |-- price: double (nullable = true)\n |-- quantity: long (nullable = true)\n\n+---------------+---+--------------------+------+--------+\n|       category| id|                name| price|quantity|\n+---------------+---+--------------------+------+--------+\n|    Electronics|  1|           iPhone 12|899.99|      10|\n|       Clothing|  2|     Nike Air Max 90|119.99|      25|\n|Home Appliances|  3|KitchenAid Stand ...|299.99|       5|\n|          Books|  4|    The Great Gatsby| 12.99|      50|\n|         Beauty|  5|L'Oreal Paris Mas...|  9.99|     100|\n+---------------+---+--------------------+------+--------+\nonly showing top 5 rows\n\n"
     ]
    }
   ],
   "source": [
    "# Read single line JSON\n",
    "json_file_path = \"/FileStore/tables/products_singleline.json\"\n",
    "df = spark.read.json(json_file_path)\n",
    "\n",
    "# Display schema of DataFrame\n",
    "df.printSchema()\n",
    "\n",
    "# Display content of DataFrame\n",
    "df.show(5)"
   ]
  },
  {
   "cell_type": "markdown",
   "metadata": {
    "application/vnd.databricks.v1+cell": {
     "cellMetadata": {
      "byteLimit": 2048000,
      "rowLimit": 10000
     },
     "inputWidgets": {},
     "nuid": "e06b94e1-1ab7-49f1-a2b1-f3ddbdf8c4c8",
     "showTitle": false,
     "tableResultSettingsMap": {},
     "title": ""
    }
   },
   "source": [
    "### Multi-lines JSON"
   ]
  },
  {
   "cell_type": "code",
   "execution_count": 0,
   "metadata": {
    "application/vnd.databricks.v1+cell": {
     "cellMetadata": {
      "byteLimit": 2048000,
      "rowLimit": 10000
     },
     "inputWidgets": {},
     "nuid": "065d5926-9f23-40d6-ac49-a12c7efd8c14",
     "showTitle": false,
     "tableResultSettingsMap": {},
     "title": ""
    }
   },
   "outputs": [
    {
     "output_type": "display_data",
     "data": {
      "text/html": [
       "<style scoped>\n",
       "  .ansiout {\n",
       "    display: block;\n",
       "    unicode-bidi: embed;\n",
       "    white-space: pre-wrap;\n",
       "    word-wrap: break-word;\n",
       "    word-break: break-all;\n",
       "    font-family: \"Menlo\", \"Monaco\", \"Consolas\", \"Ubuntu Mono\", \"Source Code Pro\", monospace;\n",
       "    font-size: 13px;\n",
       "    color: #555;\n",
       "    margin-left: 4px;\n",
       "    line-height: 19px;\n",
       "  }\n",
       "</style>\n",
       "<div class=\"ansiout\">[\n",
       "  {\n",
       "    &quot;id&quot;: 1,\n",
       "    &quot;name&quot;: &quot;iPhone 12&quot;,\n",
       "    &quot;category&quot;: &quot;Electronics&quot;,\n",
       "    &quot;quantity&quot;: 10,\n",
       "    &quot;price&quot;: 899.99\n",
       "  },\n",
       "  {\n",
       "    &quot;id&quot;: 2,\n",
       "    &quot;name&quot;: &quot;Nike Air Max 90&quot;,\n",
       "    &quot;category&quot;: &quot;Clothing&quot;,\n",
       "    &quot;quantity&quot;: 25,\n",
       "    &quot;price&quot;: 119.99\n",
       "  },\n",
       "  {\n",
       "    &quot;id&quot;: 3,\n",
       "    &quot;name&quot;: &quot;KitchenAid Stand Mixer&quot;,\n",
       "    &quot;category&quot;: &quot;Home Appliances&quot;,\n",
       "    &quot;quantity&quot;: 5,\n",
       "    &quot;price&quot;: 299.99\n",
       "  },\n",
       "  {\n",
       "    &quot;id&quot;: 4,\n",
       "    &quot;name&quot;: &quot;The Great Gatsby&quot;,\n",
       "    &quot;category&quot;: &quot;Books&quot;,\n",
       "    &quot;quantity&quot;: 50,\n",
       "    &quot;price&quot;: 12.99\n",
       "  },\n",
       "  {\n",
       "    &quot;id&quot;: 5,\n",
       "    &quot;name&quot;: &quot;L'Oreal Paris Mascara&quot;,\n",
       "    &quot;category&quot;: &quot;Beauty&quot;,\n",
       "    &quot;quantity&quot;: 100,\n",
       "    &quot;price&quot;: 9.99\n",
       "  },\n",
       "  {\n",
       "    &quot;id&quot;: 6,\n",
       "    &quot;name&quot;: &quot;Yoga Mat&quot;,\n",
       "    &quot;category&quot;: &quot;Sports&quot;,\n",
       "    &quot;quantity&quot;: 30,\n",
       "    &quot;price&quot;: 29.99\n",
       "  },\n",
       "  {\n",
       "    &quot;id&quot;: 7,\n",
       "    &quot;name&quot;: &quot;Samsung 4K Smart TV&quot;,\n",
       "    &quot;category&quot;: &quot;Electronics&quot;,\n",
       "    &quot;quantity&quot;: 8,\n",
       "    &quot;price&quot;: 799.99\n",
       "  },\n",
       "  {\n",
       "    &quot;id&quot;: 8,\n",
       "    &quot;name&quot;: &quot;Levi's Jeans&quot;,\n",
       "    &quot;category&quot;: &quot;Clothing&quot;,\n",
       "    &quot;quantity&quot;: 15,\n",
       "    &quot;price&quot;: 49.99\n",
       "  },\n",
       "  {\n",
       "    &quot;id&quot;: 9,\n",
       "    &quot;name&quot;: &quot;Dyson Vacuum Cleaner&quot;,\n",
       "    &quot;category&quot;: &quot;Home Appliances&quot;,\n",
       "    &quot;quantity&quot;: 3,\n",
       "    &quot;price&quot;: 399.99\n",
       "  },\n",
       "  {\n",
       "    &quot;id&quot;: 10,\n",
       "    &quot;name&quot;: &quot;Harry Potter Series&quot;,\n",
       "    &quot;category&quot;: &quot;Books&quot;,\n",
       "    &quot;quantity&quot;: 20,\n",
       "    &quot;price&quot;: 15.99\n",
       "  },\n",
       "  {\n",
       "    &quot;id&quot;: 11,\n",
       "    &quot;name&quot;: &quot;MAC Lipstick&quot;,\n",
       "    &quot;category&quot;: &quot;Beauty&quot;,\n",
       "    &quot;quantity&quot;: 75,\n",
       "    &quot;price&quot;: 16.99\n",
       "  },\n",
       "  {\n",
       "    &quot;id&quot;: 12,\n",
       "    &quot;name&quot;: &quot;Adidas Running Shoes&quot;,\n",
       "    &quot;category&quot;: &quot;Sports&quot;,\n",
       "    &quot;quantity&quot;: 22,\n",
       "    &quot;price&quot;: 59.99\n",
       "  },\n",
       "  {\n",
       "    &quot;id&quot;: 13,\n",
       "    &quot;name&quot;: &quot;PlayStation 5&quot;,\n",
       "    &quot;category&quot;: &quot;Electronics&quot;,\n",
       "    &quot;quantity&quot;: 12,\n",
       "    &quot;price&quot;: 499.99\n",
       "  },\n",
       "  {\n",
       "    &quot;id&quot;: 14,\n",
       "    &quot;name&quot;: &quot;Hooded Sweatshirt&quot;,\n",
       "    &quot;category&quot;: &quot;Clothing&quot;,\n",
       "    &quot;quantity&quot;: 10,\n",
       "    &quot;price&quot;: 34.99\n",
       "  },\n",
       "  {\n",
       "    &quot;id&quot;: 15,\n",
       "    &quot;name&quot;: &quot;Coffee Maker&quot;,\n",
       "    &quot;category&quot;: &quot;Home Appliances&quot;,\n",
       "    &quot;quantity&quot;: 7,\n",
       "    &quot;price&quot;: 89.99\n",
       "  },\n",
       "  {\n",
       "    &quot;id&quot;: 16,\n",
       "    &quot;name&quot;: &quot;To Kill a Mockingbird&quot;,\n",
       "    &quot;category&quot;: &quot;Books&quot;,\n",
       "    &quot;quantity&quot;: 15,\n",
       "    &quot;price&quot;: 9.99\n",
       "  },\n",
       "  {\n",
       "    &quot;id&quot;: 17,\n",
       "    &quot;name&quot;: &quot;Skincare Set&quot;,\n",
       "    &quot;category&quot;: &quot;Beauty&quot;,\n",
       "    &quot;quantity&quot;: 50,\n",
       "    &quot;price&quot;: 49.99\n",
       "  },\n",
       "  {\n",
       "    &quot;id&quot;: 18,\n",
       "    &quot;name&quot;: &quot;Yoga Ball&quot;,\n",
       "    &quot;category&quot;: &quot;Sports&quot;,\n",
       "    &quot;quantity&quot;: 18,\n",
       "    &quot;price&quot;: 19.99\n",
       "  },\n",
       "  {\n",
       "    &quot;id&quot;: 19,\n",
       "    &quot;name&quot;: &quot;Sony Noise-Canceling Headphones&quot;,\n",
       "    &quot;category&quot;: &quot;Electronics&quot;,\n",
       "    &quot;quantity&quot;: 6,\n",
       "    &quot;price&quot;: 299.99\n",
       "  },\n",
       "  {\n",
       "    &quot;id&quot;: 20,\n",
       "    &quot;name&quot;: &quot;Puma T-shirt&quot;,\n",
       "    &quot;category&quot;: &quot;Clothing&quot;,\n",
       "    &quot;quantity&quot;: 40,\n",
       "    &quot;price&quot;: 19.99\n",
       "  }\n",
       "]\n",
       "\n",
       "</div>"
      ]
     },
     "metadata": {
      "application/vnd.databricks.v1+output": {
       "addedWidgets": {},
       "arguments": {},
       "data": "<div class=\"ansiout\">[\n  {\n    &quot;id&quot;: 1,\n    &quot;name&quot;: &quot;iPhone 12&quot;,\n    &quot;category&quot;: &quot;Electronics&quot;,\n    &quot;quantity&quot;: 10,\n    &quot;price&quot;: 899.99\n  },\n  {\n    &quot;id&quot;: 2,\n    &quot;name&quot;: &quot;Nike Air Max 90&quot;,\n    &quot;category&quot;: &quot;Clothing&quot;,\n    &quot;quantity&quot;: 25,\n    &quot;price&quot;: 119.99\n  },\n  {\n    &quot;id&quot;: 3,\n    &quot;name&quot;: &quot;KitchenAid Stand Mixer&quot;,\n    &quot;category&quot;: &quot;Home Appliances&quot;,\n    &quot;quantity&quot;: 5,\n    &quot;price&quot;: 299.99\n  },\n  {\n    &quot;id&quot;: 4,\n    &quot;name&quot;: &quot;The Great Gatsby&quot;,\n    &quot;category&quot;: &quot;Books&quot;,\n    &quot;quantity&quot;: 50,\n    &quot;price&quot;: 12.99\n  },\n  {\n    &quot;id&quot;: 5,\n    &quot;name&quot;: &quot;L'Oreal Paris Mascara&quot;,\n    &quot;category&quot;: &quot;Beauty&quot;,\n    &quot;quantity&quot;: 100,\n    &quot;price&quot;: 9.99\n  },\n  {\n    &quot;id&quot;: 6,\n    &quot;name&quot;: &quot;Yoga Mat&quot;,\n    &quot;category&quot;: &quot;Sports&quot;,\n    &quot;quantity&quot;: 30,\n    &quot;price&quot;: 29.99\n  },\n  {\n    &quot;id&quot;: 7,\n    &quot;name&quot;: &quot;Samsung 4K Smart TV&quot;,\n    &quot;category&quot;: &quot;Electronics&quot;,\n    &quot;quantity&quot;: 8,\n    &quot;price&quot;: 799.99\n  },\n  {\n    &quot;id&quot;: 8,\n    &quot;name&quot;: &quot;Levi's Jeans&quot;,\n    &quot;category&quot;: &quot;Clothing&quot;,\n    &quot;quantity&quot;: 15,\n    &quot;price&quot;: 49.99\n  },\n  {\n    &quot;id&quot;: 9,\n    &quot;name&quot;: &quot;Dyson Vacuum Cleaner&quot;,\n    &quot;category&quot;: &quot;Home Appliances&quot;,\n    &quot;quantity&quot;: 3,\n    &quot;price&quot;: 399.99\n  },\n  {\n    &quot;id&quot;: 10,\n    &quot;name&quot;: &quot;Harry Potter Series&quot;,\n    &quot;category&quot;: &quot;Books&quot;,\n    &quot;quantity&quot;: 20,\n    &quot;price&quot;: 15.99\n  },\n  {\n    &quot;id&quot;: 11,\n    &quot;name&quot;: &quot;MAC Lipstick&quot;,\n    &quot;category&quot;: &quot;Beauty&quot;,\n    &quot;quantity&quot;: 75,\n    &quot;price&quot;: 16.99\n  },\n  {\n    &quot;id&quot;: 12,\n    &quot;name&quot;: &quot;Adidas Running Shoes&quot;,\n    &quot;category&quot;: &quot;Sports&quot;,\n    &quot;quantity&quot;: 22,\n    &quot;price&quot;: 59.99\n  },\n  {\n    &quot;id&quot;: 13,\n    &quot;name&quot;: &quot;PlayStation 5&quot;,\n    &quot;category&quot;: &quot;Electronics&quot;,\n    &quot;quantity&quot;: 12,\n    &quot;price&quot;: 499.99\n  },\n  {\n    &quot;id&quot;: 14,\n    &quot;name&quot;: &quot;Hooded Sweatshirt&quot;,\n    &quot;category&quot;: &quot;Clothing&quot;,\n    &quot;quantity&quot;: 10,\n    &quot;price&quot;: 34.99\n  },\n  {\n    &quot;id&quot;: 15,\n    &quot;name&quot;: &quot;Coffee Maker&quot;,\n    &quot;category&quot;: &quot;Home Appliances&quot;,\n    &quot;quantity&quot;: 7,\n    &quot;price&quot;: 89.99\n  },\n  {\n    &quot;id&quot;: 16,\n    &quot;name&quot;: &quot;To Kill a Mockingbird&quot;,\n    &quot;category&quot;: &quot;Books&quot;,\n    &quot;quantity&quot;: 15,\n    &quot;price&quot;: 9.99\n  },\n  {\n    &quot;id&quot;: 17,\n    &quot;name&quot;: &quot;Skincare Set&quot;,\n    &quot;category&quot;: &quot;Beauty&quot;,\n    &quot;quantity&quot;: 50,\n    &quot;price&quot;: 49.99\n  },\n  {\n    &quot;id&quot;: 18,\n    &quot;name&quot;: &quot;Yoga Ball&quot;,\n    &quot;category&quot;: &quot;Sports&quot;,\n    &quot;quantity&quot;: 18,\n    &quot;price&quot;: 19.99\n  },\n  {\n    &quot;id&quot;: 19,\n    &quot;name&quot;: &quot;Sony Noise-Canceling Headphones&quot;,\n    &quot;category&quot;: &quot;Electronics&quot;,\n    &quot;quantity&quot;: 6,\n    &quot;price&quot;: 299.99\n  },\n  {\n    &quot;id&quot;: 20,\n    &quot;name&quot;: &quot;Puma T-shirt&quot;,\n    &quot;category&quot;: &quot;Clothing&quot;,\n    &quot;quantity&quot;: 40,\n    &quot;price&quot;: 19.99\n  }\n]\n\n</div>",
       "datasetInfos": [],
       "metadata": {
        "isDbfsCommandResult": false
       },
       "removedWidgets": [],
       "type": "html"
      }
     },
     "output_type": "display_data"
    }
   ],
   "source": [
    "%fs head /FileStore/tables/products_multiline.json"
   ]
  },
  {
   "cell_type": "code",
   "execution_count": 0,
   "metadata": {
    "application/vnd.databricks.v1+cell": {
     "cellMetadata": {
      "byteLimit": 2048000,
      "rowLimit": 10000
     },
     "inputWidgets": {},
     "nuid": "c1b56f40-3c6d-40f5-85b1-ae3874cf99fc",
     "showTitle": false,
     "tableResultSettingsMap": {},
     "title": ""
    }
   },
   "outputs": [
    {
     "output_type": "stream",
     "name": "stdout",
     "output_type": "stream",
     "text": [
      "root\n |-- category: string (nullable = true)\n |-- id: long (nullable = true)\n |-- name: string (nullable = true)\n |-- price: double (nullable = true)\n |-- quantity: long (nullable = true)\n\n+---------------+---+--------------------+------+--------+\n|       category| id|                name| price|quantity|\n+---------------+---+--------------------+------+--------+\n|    Electronics|  1|           iPhone 12|899.99|      10|\n|       Clothing|  2|     Nike Air Max 90|119.99|      25|\n|Home Appliances|  3|KitchenAid Stand ...|299.99|       5|\n|          Books|  4|    The Great Gatsby| 12.99|      50|\n|         Beauty|  5|L'Oreal Paris Mas...|  9.99|     100|\n+---------------+---+--------------------+------+--------+\nonly showing top 5 rows\n\n"
     ]
    }
   ],
   "source": [
    "# Read multi-line JSON\n",
    "json_file_path = \"/FileStore/tables/products_multiline.json\"\n",
    "df = spark.read.json(json_file_path, multiLine=True)\n",
    "\n",
    "# Display schema of DataFrame\n",
    "df.printSchema()\n",
    "\n",
    "# Display content of DataFrame\n",
    "df.show(5)"
   ]
  },
  {
   "cell_type": "markdown",
   "metadata": {
    "application/vnd.databricks.v1+cell": {
     "cellMetadata": {
      "byteLimit": 2048000,
      "rowLimit": 10000
     },
     "inputWidgets": {},
     "nuid": "4f1dcf88-0371-47d7-9826-1766e600ae84",
     "showTitle": false,
     "tableResultSettingsMap": {},
     "title": ""
    }
   },
   "source": [
    "# DataFrame operations"
   ]
  },
  {
   "cell_type": "code",
   "execution_count": 0,
   "metadata": {
    "application/vnd.databricks.v1+cell": {
     "cellMetadata": {
      "byteLimit": 2048000,
      "rowLimit": 10000
     },
     "inputWidgets": {},
     "nuid": "fbc6be8d-0fb0-433f-bfa8-59b60e5c1b54",
     "showTitle": false,
     "tableResultSettingsMap": {},
     "title": ""
    }
   },
   "outputs": [
    {
     "output_type": "stream",
     "name": "stdout",
     "output_type": "stream",
     "text": [
      "root\n |-- id: integer (nullable = true)\n |-- name: string (nullable = true)\n |-- category: string (nullable = true)\n |-- quantity: integer (nullable = true)\n |-- price: double (nullable = true)\n\nInitial DataFrame:\n+---+----------------+-----------+--------+-------+\n| id|            name|   category|quantity|  price|\n+---+----------------+-----------+--------+-------+\n|  1|          iPhone|Electronics|      10| 899.99|\n|  2|         Macbook|Electronics|       5|1299.99|\n|  3|            iPad|Electronics|      15| 499.99|\n|  4|      Samsung TV|Electronics|       8| 799.99|\n|  5|           LG TV|Electronics|      10| 699.99|\n|  6|      Nike Shoes|   Clothing|      30|  99.99|\n|  7|    Adidas Shoes|   Clothing|      25|  89.99|\n|  8| Sony Headphones|Electronics|      12| 149.99|\n|  9|Beats Headphones|Electronics|      20| 199.99|\n| 10|    Dining Table|  Furniture|      10| 249.99|\n+---+----------------+-----------+--------+-------+\nonly showing top 10 rows\n\n"
     ]
    }
   ],
   "source": [
    "# Create a SparkSession\n",
    "spark = SparkSession.builder.appName(\"DataFrame-Operations\").getOrCreate()\n",
    "\n",
    "# Load the synthetic data into a DataFrame\n",
    "data_file_path = \"/FileStore/tables/stocks.txt\"\n",
    "df = spark.read.csv(data_file_path, header=True, inferSchema=True)\n",
    "\n",
    "# Display schema of DataFrame\n",
    "df.printSchema()\n",
    "\n",
    "# Show the initial DataFrame\n",
    "print(\"Initial DataFrame:\")\n",
    "df.show(10)"
   ]
  },
  {
   "cell_type": "markdown",
   "metadata": {
    "application/vnd.databricks.v1+cell": {
     "cellMetadata": {
      "byteLimit": 2048000,
      "rowLimit": 10000
     },
     "inputWidgets": {},
     "nuid": "d0a255ec-9a4d-4f88-a8ba-820b3adaa80f",
     "showTitle": false,
     "tableResultSettingsMap": {},
     "title": ""
    }
   },
   "source": [
    "##Select: choose specific columns"
   ]
  },
  {
   "cell_type": "code",
   "execution_count": 0,
   "metadata": {
    "application/vnd.databricks.v1+cell": {
     "cellMetadata": {
      "byteLimit": 2048000,
      "rowLimit": 10000
     },
     "inputWidgets": {},
     "nuid": "6985fbb9-a7f2-4b11-bf14-f205b8afe5d9",
     "showTitle": false,
     "tableResultSettingsMap": {},
     "title": ""
    }
   },
   "outputs": [
    {
     "output_type": "stream",
     "name": "stdout",
     "output_type": "stream",
     "text": [
      "Selected Columns:\n+---+----------------+-------+\n| id|            name|  price|\n+---+----------------+-------+\n|  1|          iPhone| 899.99|\n|  2|         Macbook|1299.99|\n|  3|            iPad| 499.99|\n|  4|      Samsung TV| 799.99|\n|  5|           LG TV| 699.99|\n|  6|      Nike Shoes|  99.99|\n|  7|    Adidas Shoes|  89.99|\n|  8| Sony Headphones| 149.99|\n|  9|Beats Headphones| 199.99|\n| 10|    Dining Table| 249.99|\n+---+----------------+-------+\nonly showing top 10 rows\n\n"
     ]
    }
   ],
   "source": [
    "selected_columns = df.select(\"id\", \"name\", \"price\")\n",
    "print(\"Selected Columns:\")\n",
    "selected_columns.show(10)"
   ]
  },
  {
   "cell_type": "markdown",
   "metadata": {
    "application/vnd.databricks.v1+cell": {
     "cellMetadata": {
      "byteLimit": 2048000,
      "rowLimit": 10000
     },
     "inputWidgets": {},
     "nuid": "4885ca84-3a94-4731-b986-ac56c6d56557",
     "showTitle": false,
     "tableResultSettingsMap": {},
     "title": ""
    }
   },
   "source": [
    "##Filter: apply conditions to filter rows"
   ]
  },
  {
   "cell_type": "code",
   "execution_count": 0,
   "metadata": {
    "application/vnd.databricks.v1+cell": {
     "cellMetadata": {
      "byteLimit": 2048000,
      "rowLimit": 10000
     },
     "inputWidgets": {},
     "nuid": "645e79c2-1d2c-4e28-a598-906bcd82812c",
     "showTitle": false,
     "tableResultSettingsMap": {},
     "title": ""
    }
   },
   "outputs": [
    {
     "output_type": "stream",
     "name": "stdout",
     "output_type": "stream",
     "text": [
      "Filtered Data: 12\n+---+--------------+-----------+--------+-----+\n| id|          name|   category|quantity|price|\n+---+--------------+-----------+--------+-----+\n|  6|    Nike Shoes|   Clothing|      30|99.99|\n|  7|  Adidas Shoes|   Clothing|      25|89.99|\n| 12|        Apples|       Food|     100|  0.5|\n| 13|       Bananas|       Food|     150| 0.25|\n| 14|       Oranges|       Food|     120| 0.75|\n| 15|Chicken Breast|       Food|      50| 3.99|\n| 16| Salmon Fillet|       Food|      30| 5.99|\n| 24|    Laptop Bag|Accessories|      25|29.99|\n| 25|      Backpack|Accessories|      30|24.99|\n| 28|         Jeans|   Clothing|      30|59.99|\n| 29|       T-shirt|   Clothing|      50|14.99|\n| 30|      Sneakers|   Clothing|      40|79.99|\n+---+--------------+-----------+--------+-----+\n\n"
     ]
    }
   ],
   "source": [
    "filtered_data = df.filter(df.quantity > 20)\n",
    "print(\"Filtered Data:\", filtered_data.count())\n",
    "filtered_data.show()"
   ]
  },
  {
   "cell_type": "markdown",
   "metadata": {
    "application/vnd.databricks.v1+cell": {
     "cellMetadata": {
      "byteLimit": 2048000,
      "rowLimit": 10000
     },
     "inputWidgets": {},
     "nuid": "ef5ac8f4-9b38-45d4-9312-cc715229a80c",
     "showTitle": false,
     "tableResultSettingsMap": {},
     "title": ""
    }
   },
   "source": [
    "##GroupBy: group data based on specific columns\n",
    "##Aggregations: perform functions on grouped data"
   ]
  },
  {
   "cell_type": "code",
   "execution_count": 0,
   "metadata": {
    "application/vnd.databricks.v1+cell": {
     "cellMetadata": {
      "byteLimit": 2048000,
      "rowLimit": 10000
     },
     "inputWidgets": {},
     "nuid": "a8834ebc-f57b-4aa9-8104-a9f555d1be8c",
     "showTitle": false,
     "tableResultSettingsMap": {},
     "title": ""
    }
   },
   "outputs": [
    {
     "output_type": "stream",
     "name": "stdout",
     "output_type": "stream",
     "text": [
      "Grouped and Aggregated Data:\n+-----------+-------------+------------------+\n|   category|sum(quantity)|        avg(price)|\n+-----------+-------------+------------------+\n|Electronics|           98| 586.6566666666665|\n|       Food|          450|2.2960000000000003|\n|   Clothing|          200|  99.2757142857143|\n|  Furniture|           41|            141.99|\n|     Sports|           35|             34.99|\n|Accessories|           55|             27.49|\n+-----------+-------------+------------------+\n\n"
     ]
    }
   ],
   "source": [
    "grouped_data = df.groupBy(\"category\").agg({\"quantity\": \"sum\", \"price\": \"avg\"})\n",
    "print(\"Grouped and Aggregated Data:\")\n",
    "grouped_data.show()"
   ]
  },
  {
   "cell_type": "markdown",
   "metadata": {
    "application/vnd.databricks.v1+cell": {
     "cellMetadata": {
      "byteLimit": 2048000,
      "rowLimit": 10000
     },
     "inputWidgets": {},
     "nuid": "7e2aa2a1-c79b-4368-9a6c-a503c89a1527",
     "showTitle": false,
     "tableResultSettingsMap": {},
     "title": ""
    }
   },
   "source": [
    "##Join: combine multiple DataFrames based on specified columns"
   ]
  },
  {
   "cell_type": "code",
   "execution_count": 0,
   "metadata": {
    "application/vnd.databricks.v1+cell": {
     "cellMetadata": {
      "byteLimit": 2048000,
      "rowLimit": 10000
     },
     "inputWidgets": {},
     "nuid": "18249b3a-cc10-4085-ac0d-40eff197d4a5",
     "showTitle": false,
     "tableResultSettingsMap": {},
     "title": ""
    }
   },
   "outputs": [
    {
     "output_type": "stream",
     "name": "stdout",
     "output_type": "stream",
     "text": [
      "Joined Data:\n+---+----------------+-----------+--------+-------+-----------+\n| id|            name|   category|quantity|  price|   category|\n+---+----------------+-----------+--------+-------+-----------+\n|  1|          iPhone|Electronics|      10| 899.99|Electronics|\n|  2|         Macbook|Electronics|       5|1299.99|Electronics|\n|  3|            iPad|Electronics|      15| 499.99|Electronics|\n|  4|      Samsung TV|Electronics|       8| 799.99|Electronics|\n|  5|           LG TV|Electronics|      10| 699.99|Electronics|\n|  6|      Nike Shoes|   Clothing|      30|  99.99|   Clothing|\n|  7|    Adidas Shoes|   Clothing|      25|  89.99|   Clothing|\n|  8| Sony Headphones|Electronics|      12| 149.99|Electronics|\n|  9|Beats Headphones|Electronics|      20| 199.99|Electronics|\n| 10|    Dining Table|  Furniture|      10| 249.99|  Furniture|\n+---+----------------+-----------+--------+-------+-----------+\n\n"
     ]
    }
   ],
   "source": [
    "df2 = df.select(\"id\", \"category\").limit(10)\n",
    "joined_data = df.join(df2, \"id\", \"inner\")\n",
    "print(\"Joined Data:\")\n",
    "joined_data.show()"
   ]
  },
  {
   "cell_type": "markdown",
   "metadata": {
    "application/vnd.databricks.v1+cell": {
     "cellMetadata": {
      "byteLimit": 2048000,
      "rowLimit": 10000
     },
     "inputWidgets": {},
     "nuid": "64cfb1e6-3659-4669-bfb4-ee8e0543b6c0",
     "showTitle": false,
     "tableResultSettingsMap": {},
     "title": ""
    }
   },
   "source": [
    "##Sort: arrange rows based on one or more columns"
   ]
  },
  {
   "cell_type": "code",
   "execution_count": 0,
   "metadata": {
    "application/vnd.databricks.v1+cell": {
     "cellMetadata": {
      "byteLimit": 2048000,
      "rowLimit": 10000
     },
     "inputWidgets": {},
     "nuid": "4617a4dd-d09a-4906-b14f-a91bebe5e26d",
     "showTitle": false,
     "tableResultSettingsMap": {},
     "title": ""
    }
   },
   "outputs": [
    {
     "output_type": "stream",
     "name": "stdout",
     "output_type": "stream",
     "text": [
      "Sorted Data:\n+---+--------------+-----------+--------+-----+\n| id|          name|   category|quantity|price|\n+---+--------------+-----------+--------+-----+\n| 13|       Bananas|       Food|     150| 0.25|\n| 12|        Apples|       Food|     100|  0.5|\n| 14|       Oranges|       Food|     120| 0.75|\n| 15|Chicken Breast|       Food|      50| 3.99|\n| 16| Salmon Fillet|       Food|      30| 5.99|\n| 29|       T-shirt|   Clothing|      50|14.99|\n| 19|      Yoga Mat|     Sports|      20|19.99|\n| 25|      Backpack|Accessories|      30|24.99|\n| 24|    Laptop Bag|Accessories|      25|29.99|\n| 20|  Dumbbell Set|     Sports|      15|49.99|\n+---+--------------+-----------+--------+-----+\nonly showing top 10 rows\n\n"
     ]
    }
   ],
   "source": [
    "sorted_data = df.orderBy(\"price\")\n",
    "print(\"Sorted Data:\")\n",
    "sorted_data.show(10)"
   ]
  },
  {
   "cell_type": "code",
   "execution_count": 0,
   "metadata": {
    "application/vnd.databricks.v1+cell": {
     "cellMetadata": {
      "byteLimit": 2048000,
      "rowLimit": 10000
     },
     "inputWidgets": {},
     "nuid": "af020415-365c-4d51-bb7d-ccaa77f8b2ba",
     "showTitle": false,
     "tableResultSettingsMap": {},
     "title": ""
    }
   },
   "outputs": [
    {
     "output_type": "stream",
     "name": "stdout",
     "output_type": "stream",
     "text": [
      "Sorted Data Descending:\n+---+----------------+-----------+--------+-------+\n| id|            name|   category|quantity|  price|\n+---+----------------+-----------+--------+-------+\n|  2|         Macbook|Electronics|       5|1299.99|\n|  1|          iPhone|Electronics|      10| 899.99|\n|  4|      Samsung TV|Electronics|       8| 799.99|\n|  5|           LG TV|Electronics|      10| 699.99|\n| 26|          Camera|Electronics|      10| 599.99|\n|  3|            iPad|Electronics|      15| 499.99|\n| 10|    Dining Table|  Furniture|      10| 249.99|\n| 17|  Leather Jacket|   Clothing|      15| 199.99|\n|  9|Beats Headphones|Electronics|      20| 199.99|\n| 18|     Winter Coat|   Clothing|      10| 149.99|\n+---+----------------+-----------+--------+-------+\nonly showing top 10 rows\n\n"
     ]
    }
   ],
   "source": [
    "from pyspark.sql.functions import col, desc\n",
    "sorted_data = df.orderBy(col(\"price\").desc(), col(\"id\").desc())\n",
    "print(\"Sorted Data Descending:\")\n",
    "sorted_data.show(10)"
   ]
  },
  {
   "cell_type": "markdown",
   "metadata": {
    "application/vnd.databricks.v1+cell": {
     "cellMetadata": {
      "byteLimit": 2048000,
      "rowLimit": 10000
     },
     "inputWidgets": {},
     "nuid": "87960244-f1b7-4341-8be7-887dcbd234c4",
     "showTitle": false,
     "tableResultSettingsMap": {},
     "title": ""
    }
   },
   "source": [
    "##Distinct: get unique rows"
   ]
  },
  {
   "cell_type": "code",
   "execution_count": 0,
   "metadata": {
    "application/vnd.databricks.v1+cell": {
     "cellMetadata": {
      "byteLimit": 2048000,
      "rowLimit": 10000
     },
     "inputWidgets": {},
     "nuid": "143e324c-9297-482f-a8f7-959eeff96676",
     "showTitle": false,
     "tableResultSettingsMap": {},
     "title": ""
    }
   },
   "outputs": [
    {
     "output_type": "stream",
     "name": "stdout",
     "output_type": "stream",
     "text": [
      "Distinct Product Categories:\n+-----------+\n|   category|\n+-----------+\n|Electronics|\n|       Food|\n|   Clothing|\n|  Furniture|\n|     Sports|\n|Accessories|\n+-----------+\n\n"
     ]
    }
   ],
   "source": [
    "distinct_rows = df.select(\"category\").distinct()\n",
    "print(\"Distinct Product Categories:\")\n",
    "distinct_rows.show()"
   ]
  },
  {
   "cell_type": "markdown",
   "metadata": {
    "application/vnd.databricks.v1+cell": {
     "cellMetadata": {
      "byteLimit": 2048000,
      "rowLimit": 10000
     },
     "inputWidgets": {},
     "nuid": "653a6858-1e38-48ed-994e-62021537283b",
     "showTitle": false,
     "tableResultSettingsMap": {},
     "title": ""
    }
   },
   "source": [
    "##Drop: remove specified columns"
   ]
  },
  {
   "cell_type": "code",
   "execution_count": 0,
   "metadata": {
    "application/vnd.databricks.v1+cell": {
     "cellMetadata": {
      "byteLimit": 2048000,
      "rowLimit": 10000
     },
     "inputWidgets": {},
     "nuid": "9b51af3f-705b-4b52-b027-a3b01f175217",
     "showTitle": false,
     "tableResultSettingsMap": {},
     "title": ""
    }
   },
   "outputs": [
    {
     "output_type": "stream",
     "name": "stdout",
     "output_type": "stream",
     "text": [
      "Dropped Columns:\n+---+----------------+-------+\n| id|            name|  price|\n+---+----------------+-------+\n|  1|          iPhone| 899.99|\n|  2|         Macbook|1299.99|\n|  3|            iPad| 499.99|\n|  4|      Samsung TV| 799.99|\n|  5|           LG TV| 699.99|\n|  6|      Nike Shoes|  99.99|\n|  7|    Adidas Shoes|  89.99|\n|  8| Sony Headphones| 149.99|\n|  9|Beats Headphones| 199.99|\n| 10|    Dining Table| 249.99|\n+---+----------------+-------+\nonly showing top 10 rows\n\n"
     ]
    }
   ],
   "source": [
    "dropped_columns = df.drop(\"quantity\", \"category\")\n",
    "print(\"Dropped Columns:\")\n",
    "dropped_columns.show(10)"
   ]
  },
  {
   "cell_type": "markdown",
   "metadata": {
    "application/vnd.databricks.v1+cell": {
     "cellMetadata": {
      "byteLimit": 2048000,
      "rowLimit": 10000
     },
     "inputWidgets": {},
     "nuid": "77574e15-a9b9-4e6f-9251-1548b857057a",
     "showTitle": false,
     "tableResultSettingsMap": {},
     "title": ""
    }
   },
   "source": [
    "##WithColumn: add new calculated columns"
   ]
  },
  {
   "cell_type": "code",
   "execution_count": 0,
   "metadata": {
    "application/vnd.databricks.v1+cell": {
     "cellMetadata": {
      "byteLimit": 2048000,
      "rowLimit": 10000
     },
     "inputWidgets": {},
     "nuid": "aab75d5f-aa6c-4ec9-910c-70fdcaf4f7ba",
     "showTitle": false,
     "tableResultSettingsMap": {},
     "title": ""
    }
   },
   "outputs": [
    {
     "output_type": "stream",
     "name": "stdout",
     "output_type": "stream",
     "text": [
      "DataFrame with New Column:\n+---+----------------+-----------+--------+-------+-------+\n| id|            name|   category|quantity|  price|revenue|\n+---+----------------+-----------+--------+-------+-------+\n|  1|          iPhone|Electronics|      10| 899.99| 8999.9|\n|  2|         Macbook|Electronics|       5|1299.99|6499.95|\n|  3|            iPad|Electronics|      15| 499.99|7499.85|\n|  4|      Samsung TV|Electronics|       8| 799.99|6399.92|\n|  5|           LG TV|Electronics|      10| 699.99| 6999.9|\n|  6|      Nike Shoes|   Clothing|      30|  99.99| 2999.7|\n|  7|    Adidas Shoes|   Clothing|      25|  89.99|2249.75|\n|  8| Sony Headphones|Electronics|      12| 149.99|1799.88|\n|  9|Beats Headphones|Electronics|      20| 199.99| 3999.8|\n| 10|    Dining Table|  Furniture|      10| 249.99| 2499.9|\n+---+----------------+-----------+--------+-------+-------+\nonly showing top 10 rows\n\n"
     ]
    }
   ],
   "source": [
    "df_with_new_column = df.withColumn(\"revenue\", df.quantity * df.price)\n",
    "print(\"DataFrame with New Column:\")\n",
    "df_with_new_column.show(10)"
   ]
  },
  {
   "cell_type": "markdown",
   "metadata": {
    "application/vnd.databricks.v1+cell": {
     "cellMetadata": {
      "byteLimit": 2048000,
      "rowLimit": 10000
     },
     "inputWidgets": {},
     "nuid": "3dc26976-4a79-4986-8323-dcf7f8e4c05c",
     "showTitle": false,
     "tableResultSettingsMap": {},
     "title": ""
    }
   },
   "source": [
    "##Alias: rename columns"
   ]
  },
  {
   "cell_type": "code",
   "execution_count": 0,
   "metadata": {
    "application/vnd.databricks.v1+cell": {
     "cellMetadata": {
      "byteLimit": 2048000,
      "rowLimit": 10000
     },
     "inputWidgets": {},
     "nuid": "ba0314ae-db52-4c42-b4df-3695adc92550",
     "showTitle": false,
     "tableResultSettingsMap": {},
     "title": ""
    }
   },
   "outputs": [
    {
     "output_type": "stream",
     "name": "stdout",
     "output_type": "stream",
     "text": [
      "DataFrame with Aliased Column:\n+---+----------------+-----------+--------+-------------+\n| id|            name|   category|quantity|product_price|\n+---+----------------+-----------+--------+-------------+\n|  1|          iPhone|Electronics|      10|       899.99|\n|  2|         Macbook|Electronics|       5|      1299.99|\n|  3|            iPad|Electronics|      15|       499.99|\n|  4|      Samsung TV|Electronics|       8|       799.99|\n|  5|           LG TV|Electronics|      10|       699.99|\n|  6|      Nike Shoes|   Clothing|      30|        99.99|\n|  7|    Adidas Shoes|   Clothing|      25|        89.99|\n|  8| Sony Headphones|Electronics|      12|       149.99|\n|  9|Beats Headphones|Electronics|      20|       199.99|\n| 10|    Dining Table|  Furniture|      10|       249.99|\n+---+----------------+-----------+--------+-------------+\nonly showing top 10 rows\n\n"
     ]
    }
   ],
   "source": [
    "df_with_alias = df.withColumnRenamed(\"price\", \"product_price\")\n",
    "print(\"DataFrame with Aliased Column:\")\n",
    "df_with_alias.show(10)"
   ]
  },
  {
   "cell_type": "markdown",
   "metadata": {
    "application/vnd.databricks.v1+cell": {
     "cellMetadata": {
      "byteLimit": 2048000,
      "rowLimit": 10000
     },
     "inputWidgets": {},
     "nuid": "88067639-1058-4362-8542-418c61a57055",
     "showTitle": false,
     "tableResultSettingsMap": {},
     "title": ""
    }
   },
   "source": [
    "# Spark SQL"
   ]
  },
  {
   "cell_type": "code",
   "execution_count": 0,
   "metadata": {
    "application/vnd.databricks.v1+cell": {
     "cellMetadata": {
      "byteLimit": 2048000,
      "rowLimit": 10000
     },
     "inputWidgets": {},
     "nuid": "b36d88cc-ebc1-461b-813d-069d1c97d8b0",
     "showTitle": false,
     "tableResultSettingsMap": {},
     "title": ""
    }
   },
   "outputs": [
    {
     "output_type": "stream",
     "name": "stdout",
     "output_type": "stream",
     "text": [
      "root\n |-- id: integer (nullable = true)\n |-- name: string (nullable = true)\n |-- category: string (nullable = true)\n |-- quantity: integer (nullable = true)\n |-- price: double (nullable = true)\n\nInitial DataFrame:\n+---+----------------+-----------+--------+-------+\n| id|            name|   category|quantity|  price|\n+---+----------------+-----------+--------+-------+\n|  1|          iPhone|Electronics|      10| 899.99|\n|  2|         Macbook|Electronics|       5|1299.99|\n|  3|            iPad|Electronics|      15| 499.99|\n|  4|      Samsung TV|Electronics|       8| 799.99|\n|  5|           LG TV|Electronics|      10| 699.99|\n|  6|      Nike Shoes|   Clothing|      30|  99.99|\n|  7|    Adidas Shoes|   Clothing|      25|  89.99|\n|  8| Sony Headphones|Electronics|      12| 149.99|\n|  9|Beats Headphones|Electronics|      20| 199.99|\n| 10|    Dining Table|  Furniture|      10| 249.99|\n+---+----------------+-----------+--------+-------+\nonly showing top 10 rows\n\n"
     ]
    }
   ],
   "source": [
    "# Create a SparkSession\n",
    "spark = SparkSession.builder.appName(\"DataFrame-SQL\").getOrCreate()\n",
    "\n",
    "# Load the synthetic data into a DataFrame\n",
    "data_file_path = \"/FileStore/tables/stocks.txt\"\n",
    "df = spark.read.csv(data_file_path, header=True, inferSchema=True)\n",
    "\n",
    "# Display schema of DataFrame\n",
    "df.printSchema()\n",
    "\n",
    "# Show the initial DataFrame\n",
    "print(\"Initial DataFrame:\")\n",
    "df.show(10)"
   ]
  },
  {
   "cell_type": "code",
   "execution_count": 0,
   "metadata": {
    "application/vnd.databricks.v1+cell": {
     "cellMetadata": {
      "byteLimit": 2048000,
      "rowLimit": 10000
     },
     "inputWidgets": {},
     "nuid": "1419d348-c7c1-4ce8-82a8-1f35c9eb218e",
     "showTitle": false,
     "tableResultSettingsMap": {},
     "title": ""
    }
   },
   "outputs": [],
   "source": [
    "# Register the DataFrame as a Temporary Table\n",
    "df.createOrReplaceTempView(\"my_table\")"
   ]
  },
  {
   "cell_type": "code",
   "execution_count": 0,
   "metadata": {
    "application/vnd.databricks.v1+cell": {
     "cellMetadata": {
      "byteLimit": 2048000,
      "rowLimit": 10000
     },
     "inputWidgets": {},
     "nuid": "b397451d-f60f-4f8d-92d7-668470ee9789",
     "showTitle": false,
     "tableResultSettingsMap": {},
     "title": ""
    }
   },
   "outputs": [
    {
     "output_type": "stream",
     "name": "stdout",
     "output_type": "stream",
     "text": [
      "+---+--------------+-----------+--------+-----+\n| id|          name|   category|quantity|price|\n+---+--------------+-----------+--------+-----+\n|  6|    Nike Shoes|   Clothing|      30|99.99|\n| 12|        Apples|       Food|     100|  0.5|\n| 13|       Bananas|       Food|     150| 0.25|\n| 14|       Oranges|       Food|     120| 0.75|\n| 15|Chicken Breast|       Food|      50| 3.99|\n| 16| Salmon Fillet|       Food|      30| 5.99|\n| 25|      Backpack|Accessories|      30|24.99|\n| 28|         Jeans|   Clothing|      30|59.99|\n| 29|       T-shirt|   Clothing|      50|14.99|\n| 30|      Sneakers|   Clothing|      40|79.99|\n+---+--------------+-----------+--------+-----+\n\n"
     ]
    }
   ],
   "source": [
    "# Perform SQL query\n",
    "result = spark.sql(\"SELECT * FROM my_table WHERE quantity > 25\")\n",
    "result.show()"
   ]
  }
 ],
 "metadata": {
  "application/vnd.databricks.v1+notebook": {
   "dashboards": [],
   "environmentMetadata": null,
   "language": "python",
   "notebookMetadata": {
    "mostRecentlyExecutedCommandWithImplicitDF": {
     "commandId": 1791201534867234,
     "dataframes": [
      "_sqldf"
     ]
    },
    "pythonIndentUnit": 4
   },
   "notebookName": "PySpark Project",
   "widgets": {}
  }
 },
 "nbformat": 4,
 "nbformat_minor": 0
}
